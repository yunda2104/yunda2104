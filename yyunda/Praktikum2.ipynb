{
 "cells": [
  {
   "cell_type": "code",
   "execution_count": 9,
   "metadata": {},
   "outputs": [
    {
     "name": "stdout",
     "output_type": "stream",
     "text": [
      "data telah ditulis ke file-dok1.txt\n"
     ]
    }
   ],
   "source": [
    "Path_data = 'dok1.txt'\n",
    "try:\n",
    "    with open(Path_data, 'w') as Files:\n",
    "        Files.write(\"Nama : Yunda \\n\")\n",
    "        Files.write(\"NIM : T3122187 \\n\")\n",
    "        Files.write(\"Asal : Banggai Kepulauan \\n\")\n",
    "    print(f\"data telah ditulis ke file-{Path_data}\")\n",
    "except IOError:\n",
    "    print(f\"Gagal membuka dan menulis file {Path_data}\")\n",
    "        "
   ]
  },
  {
   "cell_type": "code",
   "execution_count": 10,
   "metadata": {},
   "outputs": [
    {
     "name": "stdout",
     "output_type": "stream",
     "text": [
      "Nama : Yunda \n",
      "NIM : T3122187 \n",
      "Asal : Banggai Kepulauan \n",
      "\n"
     ]
    }
   ],
   "source": [
    "Path_data = 'dok1.txt'\n",
    "try:\n",
    "    with open(Path_data, 'r') as File:\n",
    "        isi_file = File.read()\n",
    "        print(isi_file)\n",
    "except FileNotFoundError:\n",
    "    print(f\"File {Path_data} tidak ditemukan\")\n",
    "except IOError:\n",
    "    print(f\"Gagal membuka atau membaca File {Path_data}\")"
   ]
  },
  {
   "cell_type": "code",
   "execution_count": 3,
   "metadata": {},
   "outputs": [
    {
     "name": "stdout",
     "output_type": "stream",
     "text": [
      "Hello)Worl4\n"
     ]
    }
   ],
   "source": [
    "Path_data = 'dok2.bin'\n",
    "try:\n",
    "    with open(Path_data, 'r') as File:\n",
    "        isi_file = File.read()\n",
    "        print(isi_file)\n",
    "except FileNotFoundError:\n",
    "    print(f\"File {Path_data} tidak ditemukan\")\n",
    "except IOError:\n",
    "    print(f\"Gagal membuka atau membaca File {Path_data}\")"
   ]
  },
  {
   "cell_type": "code",
   "execution_count": 12,
   "metadata": {},
   "outputs": [
    {
     "name": "stdout",
     "output_type": "stream",
     "text": [
      "Data biner telah dituliskan ke File-dok2.bin\n"
     ]
    }
   ],
   "source": [
    "Path_data = 'dok2.bin'\n",
    "try:\n",
    "    with open(Path_data, 'wb') as File:\n",
    "        binary = b'\\x48\\x65\\x6c\\x6c\\x6f\\x20\\x57\\x6f\\x72\\x6c\\64'\n",
    "        File.write(binary)\n",
    "    print(f\"Data biner telah dituliskan ke File-{Path_data}\")  \n",
    "except IOError:\n",
    "    print(f\"Gagal membuka dan menulis File{Path_data}\")"
   ]
  },
  {
   "cell_type": "code",
   "execution_count": 8,
   "metadata": {},
   "outputs": [
    {
     "name": "stdout",
     "output_type": "stream",
     "text": [
      "Data biner telah dituliskan ke File-dok2.bin\n",
      "Data biner yang dibaca dari File-dok2.bin\n",
      "b'Hello World'\n"
     ]
    }
   ],
   "source": [
    "Path_data = 'dok2.bin'\n",
    "try:\n",
    "    with open(Path_data, 'wb+') as File:\n",
    "        binary = b'\\x48\\x65\\x6c\\x6c\\x6f\\x20\\x57\\x6f\\x72\\x6c\\x64'\n",
    "        File.write(binary)\n",
    "        File.seek(0)\n",
    "        data = File.read() \n",
    "        print(f\"Data biner telah dituliskan ke File-{Path_data}\")\n",
    "        print(f\"Data biner yang dibaca dari File-{Path_data}\")\n",
    "        print(data)\n",
    "except IOError:\n",
    "    print(f\"Gagal membuka dan menulis File{Path_data}\")"
   ]
  },
  {
   "cell_type": "code",
   "execution_count": 7,
   "metadata": {},
   "outputs": [
    {
     "name": "stdout",
     "output_type": "stream",
     "text": [
      "Data telah ditulis ke file Data.csv\n",
      "Header : ['Nama', 'Asal']\n",
      "Data : Yundaa, Banggai Kepulauan\n",
      "Data : indah, Gorontalo\n",
      "Data : Adrian Rajak, Gorontalo\n"
     ]
    }
   ],
   "source": [
    "import csv\n",
    "Path_data = 'Data.csv'\n",
    "data = [\n",
    "    [\"Nama\",\"Asal\"],\n",
    "    [\"Yundaa\",\"Banggai Kepulauan\"],\n",
    "    [\"indah\",\"Gorontalo\"],\n",
    "    [\"Adrian Rajak\",\"Gorontalo\"]\n",
    "]\n",
    "try:\n",
    "    with open(Path_data, mode='w', newline='') as File_csv:\n",
    "        penulis_csv = csv.writer(File_csv)\n",
    "        penulis_csv.writerow(data[0])\n",
    "        for baris in data[1:]:\n",
    "            penulis_csv.writerow(baris)\n",
    "        print(f\"Data telah ditulis ke file {Path_data}\")\n",
    "    with open(Path_data, mode='r', newline='') as File_csv:\n",
    "        pembaca_csv = csv.reader(File_csv)\n",
    "        header = next(pembaca_csv)\n",
    "        print('Header :', header)\n",
    "        for baris in pembaca_csv:\n",
    "            kolom1 = baris[0]\n",
    "            kolom2 = baris[1]\n",
    "            print(f\"Data : {kolom1}, {kolom2}\")\n",
    "except FileNotFoundError:\n",
    "    print(f\"File {Path_data} tidak ditemukan\")\n",
    "except Exception as e:\n",
    "    print(f\"Terjadi Kesalahan: {str(e)}\")"
   ]
  }
 ],
 "metadata": {
  "kernelspec": {
   "display_name": "Python 3",
   "language": "python",
   "name": "python3"
  },
  "language_info": {
   "codemirror_mode": {
    "name": "ipython",
    "version": 3
   },
   "file_extension": ".py",
   "mimetype": "text/x-python",
   "name": "python",
   "nbconvert_exporter": "python",
   "pygments_lexer": "ipython3",
   "version": "3.11.0"
  }
 },
 "nbformat": 4,
 "nbformat_minor": 2
}
