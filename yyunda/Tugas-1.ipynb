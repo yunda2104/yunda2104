{
 "cells": [
  {
   "cell_type": "code",
   "execution_count": 2,
   "metadata": {},
   "outputs": [
    {
     "name": "stdout",
     "output_type": "stream",
     "text": [
      "Nama : John wick, Umur: 25\n",
      "No Anggota: P123\n",
      "John wick telah meminjam buku. Jumlah Buku: 1\n",
      "John wick telah menggembalikan buku. Jumlah Pinjaman Buku Sekarang : 0\n"
     ]
    }
   ],
   "source": [
    "class Pengguna:\n",
    "    def __init__(self, nama, umur):\n",
    "        self.nama = nama\n",
    "        self.umur = umur\n",
    "        \n",
    "    def cetak_info(self):\n",
    "        print(f'Nama : {self.nama}, Umur: {self.umur}')\n",
    "        \n",
    "class AnggotaPerpustakaan(Pengguna):\n",
    "    def __init__(self, nama, umur, nomor_anggota):\n",
    "        super().__init__(nama, umur)\n",
    "        self.nomor_anggota = nomor_anggota\n",
    "        self.jumlah_pinjaman = 0\n",
    "        \n",
    "    def pinjam_buku(self):\n",
    "        self.jumlah_pinjaman += 1\n",
    "        print(f'{self.nama} telah meminjam buku. Jumlah Buku: {self.jumlah_pinjaman}')\n",
    "        \n",
    "    def kembalikan_buku(self):\n",
    "        if self.jumlah_pinjaman > 0 :\n",
    "            self.jumlah_pinjaman -= 1\n",
    "            print(f'{self.nama} telah menggembalikan buku. Jumlah Pinjaman Buku Sekarang : {self.jumlah_pinjaman}')\n",
    "        else:\n",
    "            print(\"Tidak ada buku yang dipinjam. \")\n",
    "            \n",
    "anggota = AnggotaPerpustakaan(\"John wick\", 25, 'P123')\n",
    "anggota.cetak_info()\n",
    "print(f'No Anggota: {anggota.nomor_anggota}')\n",
    "anggota.pinjam_buku()\n",
    "anggota.kembalikan_buku()\n",
    "        "
   ]
  },
  {
   "cell_type": "code",
   "execution_count": 3,
   "metadata": {},
   "outputs": [
    {
     "name": "stdout",
     "output_type": "stream",
     "text": [
      "Buku 'London Love Story' berhasil ditambahkan ke laporan.\n",
      "Buku 'Dilan 1990' berhasil ditambahkan ke laporan.\n",
      "Nama : Yunda, Umur: 19\n",
      "Laporan Buku Oleh Petugas p214 - Bagian pusrkawan:\n",
      "1. Judul: London Love Story, Pengarang: Tisa TS, Tahun Terbit: 2015\n",
      "2. Judul: Dilan 1990, Pengarang: Pidi baiq, Tahun Terbit: 2015\n"
     ]
    }
   ],
   "source": [
    "class PetugasPerpustakaan(Pengguna):\n",
    "    def __init__(self, nama, umur, no_petugas, bagian_tugas):\n",
    "        super().__init__(nama, umur)\n",
    "        self.no_petugas = no_petugas\n",
    "        self.bagian_tugas = bagian_tugas\n",
    "        self.laporan_buku = []\n",
    "        \n",
    "    def input_buku(self, judul, pengarang, tahun):\n",
    "        buku_baru = {\n",
    "            'judul': judul,\n",
    "            'pengarang': pengarang,\n",
    "            'tahun': tahun\n",
    "        }\n",
    "        self.laporan_buku.append(buku_baru)\n",
    "        print(f\"Buku '{judul}' berhasil ditambahkan ke laporan.\")\n",
    "        \n",
    "    def cetak_laporan(self):\n",
    "        print(f\"Laporan Buku Oleh Petugas {self.no_petugas} - Bagian {self.bagian_tugas}:\")\n",
    "        if not self.laporan_buku:\n",
    "            print(\"Belum ada Buku yang terinput.\")\n",
    "        else:\n",
    "            for index, buku in enumerate(self.laporan_buku, start= 1):\n",
    "                print(f\"{index}. Judul: {buku['judul']}, Pengarang: {buku['pengarang']}, Tahun Terbit: {buku['tahun']}\")\n",
    "                \n",
    "petugas2 = PetugasPerpustakaan(\"Yunda\", 19, \"p214\", \"pusrkawan\")\n",
    "petugas2.input_buku(\"London Love Story\", \"Tisa TS\", 2015)\n",
    "petugas2.input_buku(\"Dilan 1990\", \"Pidi baiq\", 2015)\n",
    "\n",
    "petugas2.cetak_info()\n",
    "petugas2.cetak_laporan()\n",
    "            \n"
   ]
  },
  {
   "cell_type": "code",
   "execution_count": 6,
   "metadata": {},
   "outputs": [
    {
     "name": "stdout",
     "output_type": "stream",
     "text": [
      "Nama : Inda Abdullah, Umur: 18\n",
      "Pengguna 'Fina Pembengo' dengan umur 21 telah ditambahkan.\n",
      "Pengguna 'Inda Abdullah' telah dihapus.\n"
     ]
    }
   ],
   "source": [
    "class Administrator(Pengguna):\n",
    "    def __init__(self, nama, umur, no_admin, hak_akses):\n",
    "        super().__init__(nama, umur)\n",
    "        self.no_admin = no_admin\n",
    "        self.hak_akses = hak_akses\n",
    "        \n",
    "    def Tampilkan(self):\n",
    "        super().cetak_info()\n",
    "        print(f\"No Admin: {self.no_admin}, Hak Akses: {self.hak_akses}\")\n",
    "        \n",
    "    def tambah_pengguna(self, nama_pengguna, umur_pengguna):\n",
    "        print(f\"Pengguna '{nama_pengguna}' dengan umur {umur_pengguna} telah ditambahkan.\")\n",
    "        \n",
    "    def hapus_pengguna(self, nama_pengguna):\n",
    "        print(f\"Pengguna '{nama_pengguna}' telah dihapus.\")\n",
    "        \n",
    "admin2 = Administrator(\"Inda Abdullah\", 18, \"A123\", \"Admi Level 2\")\n",
    "admin2.cetak_info()\n",
    "admin2.tambah_pengguna(\"Fina Pembengo\", 21)\n",
    "admin2.hapus_pengguna(\"Inda Abdullah\")"
   ]
  }
 ],
 "metadata": {
  "kernelspec": {
   "display_name": "Python 3",
   "language": "python",
   "name": "python3"
  },
  "language_info": {
   "codemirror_mode": {
    "name": "ipython",
    "version": 3
   },
   "file_extension": ".py",
   "mimetype": "text/x-python",
   "name": "python",
   "nbconvert_exporter": "python",
   "pygments_lexer": "ipython3",
   "version": "3.11.0"
  }
 },
 "nbformat": 4,
 "nbformat_minor": 2
}
