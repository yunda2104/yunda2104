{
 "cells": [
  {
   "cell_type": "code",
   "execution_count": 7,
   "metadata": {},
   "outputs": [
    {
     "name": "stdout",
     "output_type": "stream",
     "text": [
      "Hasil Penjumlahan =  26\n",
      "Hasil Pengurangan =  14\n",
      "Hasil Pembagian =  3.3333333333333335\n",
      "Hasil Perkalian =  120\n",
      "Hasil Penggabungan=  Hello,World\n",
      "Hasil Pengulangan =  HelloHelloHello\n",
      "Hasil Panjang Kata =  5\n",
      "Hasil Posisi =  0\n"
     ]
    }
   ],
   "source": [
    "Nilai1 = 20\n",
    "Nilai2 = 6\n",
    "\n",
    "Data1= \"Hello\"\n",
    "Data2 = \"World\"\n",
    "\n",
    "#Operasi\n",
    "Penjumlahan = Nilai1 + Nilai2\n",
    "Pegurangan = Nilai1 - Nilai2\n",
    "Pembagian = Nilai1 / Nilai2\n",
    "Perkalian = Nilai1 * Nilai2\n",
    "\n",
    "gabungan = Data1 + \",\" + Data2\n",
    "ulang = Data1 * 3\n",
    "panjang_kata1 = len(Data1)\n",
    "posisi = Data2.index(\"W\")\n",
    "\n",
    "#Hasil Cetak\n",
    "print(\"Hasil Penjumlahan = \" ,Penjumlahan)\n",
    "print(\"Hasil Pengurangan = \" ,Pegurangan)\n",
    "print(\"Hasil Pembagian = \" ,Pembagian)\n",
    "print(\"Hasil Perkalian = \" ,Perkalian)\n",
    "\n",
    "print(\"Hasil Penggabungan= \" ,gabungan)\n",
    "print(\"Hasil Pengulangan = \" ,ulang)\n",
    "print(\"Hasil Panjang Kata = \" ,panjang_kata1)\n",
    "print(\"Hasil Posisi = \" ,posisi)\n",
    "\n",
    "\n"
   ]
  },
  {
   "cell_type": "code",
   "execution_count": 8,
   "metadata": {},
   "outputs": [
    {
     "name": "stdout",
     "output_type": "stream",
     "text": [
      "7\n",
      "15\n"
     ]
    }
   ],
   "source": [
    "class Kalkulator:\n",
    "    \n",
    "    def hitung(self, a, b):\n",
    "        return a + b\n",
    "    def hitung(self, a, b, c=0):\n",
    "        return a + b + c\n",
    "        \n",
    "k = Kalkulator()\n",
    "hasil1 = k.hitung(5, 2)\n",
    "hasil2 = k.hitung(5, 3, 7)\n",
    "\n",
    "print(hasil1)\n",
    "print(hasil2)"
   ]
  },
  {
   "cell_type": "code",
   "execution_count": 9,
   "metadata": {},
   "outputs": [
    {
     "name": "stdout",
     "output_type": "stream",
     "text": [
      "10\n",
      "8\n"
     ]
    }
   ],
   "source": [
    "class Kalkulator:\n",
    "    def hitung(self, a, b= None):\n",
    "        if b is None:\n",
    "            return a * 2\n",
    "        else:\n",
    "            return a + b\n",
    "        \n",
    "k = Kalkulator()\n",
    "hasil1 = k.hitung(5)    #Memanggil metode dengan satu argumen\n",
    "hasil2 = k.hitung(5, 3) #Memanggil metode dengan dua argumen\n",
    "\n",
    "print(hasil1)\n",
    "print(hasil2)"
   ]
  },
  {
   "cell_type": "code",
   "execution_count": 10,
   "metadata": {},
   "outputs": [
    {
     "name": "stdout",
     "output_type": "stream",
     "text": [
      "10\n",
      "8\n"
     ]
    }
   ],
   "source": [
    "class Kalkulator:\n",
    "    def hitung(self, *args):\n",
    "        if len(args) == 1:\n",
    "            return args[0] * 2\n",
    "        elif len(args) == 2 :\n",
    "            return args[0] + args[1]\n",
    "        \n",
    "k = Kalkulator()\n",
    "hasil1 = k.hitung(5)     #Memanggil metode dengan satu argumen\n",
    "hasil2 = k.hitung(5, 3)  #Memanggil metode dengan dua argumen\n",
    "\n",
    "print(hasil1)\n",
    "print(hasil2)"
   ]
  },
  {
   "cell_type": "code",
   "execution_count": 11,
   "metadata": {},
   "outputs": [
    {
     "name": "stdout",
     "output_type": "stream",
     "text": [
      "Di dunia ini ada beberapa type berbeda dari spesies burung\n",
      "Hampir semua burung dapat terbang, namun ada beberapa yang tidak dapat terbang\n",
      "Di dunia ini ada beberapa type berbeda dari spesies burung\n",
      "Elang dapat terbang\n",
      "Di dunia ini ada beberapa type berbeda dari spesies burung\n",
      "Burung Unta tidak dapat terbang\n"
     ]
    }
   ],
   "source": [
    "class Burung:\n",
    "    def intro(self):\n",
    "        print(\"Di dunia ini ada beberapa type berbeda dari spesies burung\")\n",
    "        \n",
    "    def terbang(self):\n",
    "        print(\"Hampir semua burung dapat terbang, namun ada beberapa yang tidak dapat terbang\")\n",
    "        \n",
    "class Elang(Burung):\n",
    "    def terbang(self):\n",
    "        print(\"Elang dapat terbang\")\n",
    "class BurungUnta(Burung):\n",
    "    def terbang(self):\n",
    "        print(\"Burung Unta tidak dapat terbang\")\n",
    "        \n",
    "obj_burung = Burung()\n",
    "obj_elang = Elang()\n",
    "obj_burung_unta = BurungUnta()\n",
    "\n",
    "obj_burung.intro()\n",
    "obj_burung.terbang()\n",
    "\n",
    "obj_elang.intro()\n",
    "obj_elang.terbang()\n",
    "\n",
    "obj_burung_unta.intro()\n",
    "obj_burung_unta.terbang()"
   ]
  },
  {
   "cell_type": "code",
   "execution_count": 12,
   "metadata": {},
   "outputs": [
    {
     "name": "stdout",
     "output_type": "stream",
     "text": [
      "16\n",
      "28.26\n"
     ]
    }
   ],
   "source": [
    "from abc import ABC, abstractmethod\n",
    "\n",
    "class Bentuk(ABC):\n",
    "    @abstractmethod\n",
    "    def luas(self):\n",
    "        pass\n",
    "    \n",
    "class Persegi(Bentuk):\n",
    "    def __init__(self, sisi) :\n",
    "        self.sisi = sisi\n",
    "        \n",
    "    def luas(self):\n",
    "        return self.sisi ** 2\n",
    "    \n",
    "class Lingkaran(Bentuk):\n",
    "    def __init__(self, jari_jari):\n",
    "        self.jari_jari = jari_jari\n",
    "        \n",
    "    def luas(self):\n",
    "        return 3.14 * self.jari_jari ** 2\n",
    "    \n",
    "#Membuat objek berdasarkan antarmuka bentuk\n",
    "bentuk1 = Persegi(4)\n",
    "bentuk2 = Lingkaran(3)\n",
    "    \n",
    "#Menggunakan polimorfisme untuk memanggil metode luas\n",
    "print(bentuk1.luas()) #Output : 16\n",
    "print(bentuk2.luas()) #Output : 28.26 "
   ]
  },
  {
   "cell_type": "code",
   "execution_count": 13,
   "metadata": {},
   "outputs": [],
   "source": [
    "class Truk:\n",
    "    def pengiriman(self):\n",
    "        print(\"Mengirim barang dengan truk.\")\n",
    "class Pesawat:\n",
    "    def pengiriman(self):\n",
    "        print(\"Mengirim barang dengan pesawat.\")\n",
    "class KapalLaut:\n",
    "    def pengiriman(self):\n",
    "        print(\"Mengirim barang dengan kapal.\")"
   ]
  },
  {
   "cell_type": "code",
   "execution_count": 14,
   "metadata": {},
   "outputs": [
    {
     "name": "stdout",
     "output_type": "stream",
     "text": [
      "Mengirim barang dengan truk.\n",
      "Mengirim barang dengan pesawat.\n",
      "Mengirim barang dengan kapal.\n"
     ]
    }
   ],
   "source": [
    "def main():\n",
    "    kendaraan = [Truk(), Pesawat(), KapalLaut()]\n",
    "    \n",
    "    for kendaraan in kendaraan:\n",
    "        kendaraan.pengiriman()\n",
    "        \n",
    "main()"
   ]
  },
  {
   "cell_type": "code",
   "execution_count": 18,
   "metadata": {},
   "outputs": [
    {
     "name": "stdout",
     "output_type": "stream",
     "text": [
      "Guk guk!\n",
      "Meong meong!\n"
     ]
    }
   ],
   "source": [
    "class hewan:\n",
    "    def bersuara(self):\n",
    "        pass\n",
    "    \n",
    "class Anjing(hewan):\n",
    "    def bersuara(self):\n",
    "        return \"Guk guk!\"\n",
    "    \n",
    "class Kucing(hewan):\n",
    "    def bersuara(self):\n",
    "        return \"Meong meong!\"\n",
    "    \n",
    "hewan1 = Anjing()\n",
    "hewan2 = Kucing()\n",
    "\n",
    "suara1 = hewan1.bersuara() # Memanggil metode dari Anjing\n",
    "suara2 = hewan2.bersuara() # Memanggil metode dari Kucing\n",
    "\n",
    "print(suara1)\n",
    "print(suara2)"
   ]
  },
  {
   "cell_type": "code",
   "execution_count": 15,
   "metadata": {},
   "outputs": [
    {
     "name": "stdout",
     "output_type": "stream",
     "text": [
      "Nilai B\n"
     ]
    }
   ],
   "source": [
    "Nilai = 84\n",
    "if Nilai >= 85:\n",
    "    print(\"Nilai A\")\n",
    "elif Nilai >= 75:\n",
    "    print(\"Nilai B\")\n",
    "elif Nilai >= 60:\n",
    "    print(\"Nilai C\")\n",
    "else :\n",
    "    print(\"Anda tidak Lulus\")\n",
    "    \n",
    "    "
   ]
  },
  {
   "cell_type": "code",
   "execution_count": 16,
   "metadata": {},
   "outputs": [
    {
     "name": "stdout",
     "output_type": "stream",
     "text": [
      "1\n",
      "2\n",
      "3\n",
      "4\n",
      "5\n"
     ]
    }
   ],
   "source": [
    "angka = [1,2,3,4,5]\n",
    "for x in angka:\n",
    "    print (x)"
   ]
  },
  {
   "cell_type": "code",
   "execution_count": 17,
   "metadata": {},
   "outputs": [
    {
     "name": "stdout",
     "output_type": "stream",
     "text": [
      "1\n",
      "2\n",
      "3\n",
      "4\n",
      "5\n"
     ]
    }
   ],
   "source": [
    "angka = 1\n",
    "\n",
    "while angka <=5:\n",
    "    print(angka)\n",
    "    angka +=1"
   ]
  }
 ],
 "metadata": {
  "kernelspec": {
   "display_name": "Python 3",
   "language": "python",
   "name": "python3"
  },
  "language_info": {
   "codemirror_mode": {
    "name": "ipython",
    "version": 3
   },
   "file_extension": ".py",
   "mimetype": "text/x-python",
   "name": "python",
   "nbconvert_exporter": "python",
   "pygments_lexer": "ipython3",
   "version": "3.11.0"
  }
 },
 "nbformat": 4,
 "nbformat_minor": 2
}
