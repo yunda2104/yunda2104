{
 "cells": [
  {
   "cell_type": "code",
   "execution_count": 25,
   "metadata": {},
   "outputs": [
    {
     "name": "stdout",
     "output_type": "stream",
     "text": [
      "Mahasiswa atas nama Yunda dengan NIM T3122187 memprogram sks sebanyak 24\n",
      "Mahasiswa atas nama Greis Veila Damuling dengan NIM T3122185 memprogram sks sebanyak 24\n"
     ]
    }
   ],
   "source": [
    "class Mahasiswa:\n",
    "    def __init__(self, nim, nama, sks):\n",
    "       self.nim = nim\n",
    "       self.nama = nama\n",
    "       self.sks = sks\n",
    "       \n",
    "    def tampil(self):\n",
    "        return f\"Mahasiswa atas nama {self.nama} dengan NIM {self.nim} memprogram sks sebanyak {self.sks}\"\n",
    "    \n",
    "objMhs1 = Mahasiswa(\"T3122187\",\"Yunda\",24)\n",
    "objMhs2 = Mahasiswa(\"T3122185\", \"Greis Veila Damuling\",24)\n",
    "print(objMhs1.tampil())\n",
    "print(objMhs2.tampil())\n",
    "     "
   ]
  },
  {
   "cell_type": "code",
   "execution_count": 1,
   "metadata": {},
   "outputs": [
    {
     "ename": "ZeroDivisionError",
     "evalue": "division by zero",
     "output_type": "error",
     "traceback": [
      "\u001b[1;31m---------------------------------------------------------------------------\u001b[0m",
      "\u001b[1;31mZeroDivisionError\u001b[0m                         Traceback (most recent call last)",
      "Cell \u001b[1;32mIn[1], line 2\u001b[0m\n\u001b[0;32m      1\u001b[0m angka \u001b[38;5;241m=\u001b[39m \u001b[38;5;241m99\u001b[39m \n\u001b[1;32m----> 2\u001b[0m a \u001b[38;5;241m=\u001b[39m \u001b[43mangka\u001b[49m\u001b[43m \u001b[49m\u001b[38;5;241;43m/\u001b[39;49m\u001b[43m \u001b[49m\u001b[38;5;241;43m0\u001b[39;49m\n\u001b[0;32m      3\u001b[0m \u001b[38;5;28mprint\u001b[39m(a)\n",
      "\u001b[1;31mZeroDivisionError\u001b[0m: division by zero"
     ]
    }
   ],
   "source": [
    "angka = 99 \n",
    "a = angka / 0\n",
    "print(a)"
   ]
  },
  {
   "cell_type": "code",
   "execution_count": 2,
   "metadata": {},
   "outputs": [
    {
     "name": "stdout",
     "output_type": "stream",
     "text": [
      "Terjadi Kesalahan : division by zero\n"
     ]
    }
   ],
   "source": [
    "try:\n",
    "    angka = 99 \n",
    "    \n",
    "    a = angka / 0\n",
    "    print(a)\n",
    "    \n",
    "except ZeroDivisionError as e:\n",
    "    print(f\"Terjadi Kesalahan : {e}\")"
   ]
  },
  {
   "cell_type": "code",
   "execution_count": 3,
   "metadata": {},
   "outputs": [
    {
     "name": "stdout",
     "output_type": "stream",
     "text": [
      "Terjadi Kesalahan : can only concatenate str (not \"int\") to str\n"
     ]
    }
   ],
   "source": [
    "try:\n",
    "    angka = '10'\n",
    "    hasil = angka + 5\n",
    "    print(hasil)\n",
    "    \n",
    "except TypeError as e:\n",
    "    print(f\"Terjadi Kesalahan : {e}\")"
   ]
  },
  {
   "cell_type": "code",
   "execution_count": 14,
   "metadata": {},
   "outputs": [
    {
     "name": "stdout",
     "output_type": "stream",
     "text": [
      "5\n"
     ]
    }
   ],
   "source": [
    "angka = int('5')\n",
    "print(angka)\n"
   ]
  },
  {
   "cell_type": "code",
   "execution_count": 16,
   "metadata": {},
   "outputs": [
    {
     "name": "stdout",
     "output_type": "stream",
     "text": [
      "5\n"
     ]
    }
   ],
   "source": [
    "try:\n",
    "    print(5) \n",
    "except Exception as e:\n",
    "    print(f\"Terjadi Kesalahan: {e}\")\n",
    "    "
   ]
  },
  {
   "cell_type": "code",
   "execution_count": 19,
   "metadata": {},
   "outputs": [
    {
     "name": "stdout",
     "output_type": "stream",
     "text": [
      "Terjadi Kesalahan : Nilai Negatif Ditemukan: -7\n"
     ]
    }
   ],
   "source": [
    "class NilaiNegatifErrof(Exception):\n",
    "    def __init__(self, nilai):\n",
    "        self.nilai = nilai\n",
    "        super().__init__(f\"Nilai Negatif Ditemukan: {nilai}\")\n",
    "        \n",
    "def hitung_akar_kuadrat(nilai):\n",
    "        if nilai < 0:\n",
    "            raise NilaiNegatifErrof(nilai)\n",
    "        return nilai ** 0.5\n",
    "    \n",
    "try:\n",
    "    angka = -7\n",
    "    akar = hitung_akar_kuadrat(angka)\n",
    "    print(f\"Akar kuadrat dari {angka} adalah {akar}\")\n",
    "except NilaiNegatifErrof as e:\n",
    "    print(f\"Terjadi Kesalahan : {e}\")"
   ]
  },
  {
   "cell_type": "code",
   "execution_count": 24,
   "metadata": {},
   "outputs": [
    {
     "name": "stdout",
     "output_type": "stream",
     "text": [
      "Hasil pembagian adalah = 4.0\n"
     ]
    }
   ],
   "source": [
    "try:\n",
    "    angka = int(input(\"Masukan angka : \"))\n",
    "    hasil = 20 / angka\n",
    "except ZeroDivisionError as e:\n",
    "    print(f\"Terjadi Kesalahan: {e} (Tidak dapat membagi oleh nol)\")\n",
    "except ValueError as e:\n",
    "    print(f\"Terjadi kesalahan: {e} (Buka angka yang valid)\")\n",
    "else:\n",
    "    print(f\"Hasil pembagian adalah = {hasil}\")"
   ]
  },
  {
   "cell_type": "code",
   "execution_count": 25,
   "metadata": {},
   "outputs": [
    {
     "name": "stdout",
     "output_type": "stream",
     "text": [
      "Terjadi kesalahan: division by zero (Tidak dapat membagi oleh nol)\n",
      "Blok fially akan selalu dijalankan\n"
     ]
    }
   ],
   "source": [
    "try:\n",
    "    hasil = 20 / 0\n",
    "except ZeroDivisionError as e:\n",
    "    print(f\"Terjadi kesalahan: {e} (Tidak dapat membagi oleh nol)\")\n",
    "else:\n",
    "    print(f\"hasil pembagian adalah : {hasil}\")\n",
    "finally:\n",
    "    print(\"Blok fially akan selalu dijalankan\")\n"
   ]
  },
  {
   "cell_type": "code",
   "execution_count": 13,
   "metadata": {},
   "outputs": [
    {
     "name": "stdout",
     "output_type": "stream",
     "text": [
      "Terjadi Kesalahan: name 'x' is not defined\n"
     ]
    }
   ],
   "source": [
    "try:\n",
    "    print(x)\n",
    "except NameError as e:\n",
    "    print(f\"Terjadi Kesalahan: {e}\")"
   ]
  },
  {
   "cell_type": "code",
   "execution_count": 26,
   "metadata": {},
   "outputs": [
    {
     "name": "stdout",
     "output_type": "stream",
     "text": [
      "Halo Nama Saya : Yunda, saya berasal dari Banggai Kepulauan\n"
     ]
    }
   ],
   "source": [
    "class orang:\n",
    "    def __init__(self, nama , asal):\n",
    "        self.nama = nama\n",
    "        self.asal = asal\n",
    "        \n",
    "    def perkenalan(self):\n",
    "        print(f\"Halo Nama Saya : {self.nama}, saya berasal dari {self.asal}\")\n",
    "\n",
    "obj1 = orang(\"Yunda\",\"Banggai Kepulauan\")   \n",
    "obj1.perkenalan()     \n"
   ]
  },
  {
   "cell_type": "code",
   "execution_count": 27,
   "metadata": {},
   "outputs": [
    {
     "name": "stdout",
     "output_type": "stream",
     "text": [
      "Constructor Kelas utama / superclass\n",
      "Halo Nama Saya : Yunda, saya berasal dari Banggai Kepulauan\n",
      "Constructor Kelas utama / superclass\n",
      "Halo Nama Saya : Rijal Basri, saya berasal dari Banggai Kepulauan\n",
      "Constructor Kelas utama / superclass\n",
      "Halo Nama Saya : Papa, saya berasal dari Sinjai\n"
     ]
    }
   ],
   "source": [
    "class orang:\n",
    "    def __init__(self, nama , asal):\n",
    "        self.nama = nama\n",
    "        self.asal = asal\n",
    "        print(\"Constructor Kelas utama / superclass\")\n",
    "        \n",
    "    def perkenalan(self):\n",
    "        print(f\"Halo Nama Saya : {self.nama}, saya berasal dari {self.asal}\")\n",
    "        \n",
    "class pelajar(orang):\n",
    "    pass\n",
    "\n",
    "class pekerja(orang):\n",
    "    pass\n",
    "\n",
    "obj1 = orang(\"Yunda\", \"Banggai Kepulauan\")\n",
    "obj1.perkenalan()\n",
    "obj2 = pelajar(\"Rijal Basri\", \"Banggai Kepulauan\")\n",
    "obj2.perkenalan()\n",
    "obj3 = pekerja(\"Papa\", \"Sinjai\")\n",
    "obj3.perkenalan()"
   ]
  },
  {
   "cell_type": "code",
   "execution_count": 37,
   "metadata": {},
   "outputs": [
    {
     "name": "stdout",
     "output_type": "stream",
     "text": [
      "Constructor Kelas utama / superclass\n",
      "Halo Nama Saya : Yunda, saya berasal dari Banggai Kepulauan\n",
      "Halo Nama Saya : Rijal Basri, saya berasal dari Banggai Kepulauan\n",
      "Constructor Kelas utama / superclass\n",
      "Halo Nama Saya : Papa, saya berasal dari Sinjai\n",
      "Saya Bekerja di Kapal Perikanan\n"
     ]
    }
   ],
   "source": [
    "class orang:\n",
    "    def __init__(self, nama , asal):\n",
    "        self.nama = nama\n",
    "        self.asal = asal\n",
    "        print(\"Constructor Kelas utama / superclass\")\n",
    "        \n",
    "    def perkenalan(self):\n",
    "        print(f\"Halo Nama Saya : {self.nama}, saya berasal dari {self.asal}\")\n",
    "        \n",
    "class pelajar(orang):\n",
    "    def __init__(self, nama , asal):\n",
    "        self.nama = nama\n",
    "        self.asal = asal\n",
    "\n",
    "class pekerja(orang):\n",
    "    def __init__(self, nama , asal, tempat_kerja):\n",
    "        orang.__init__(self, nama, asal)\n",
    "        self.tempat_kerja = tempat_kerja\n",
    "\n",
    "obj1 = orang(\"Yunda\", \"Banggai Kepulauan\")\n",
    "obj1.perkenalan()\n",
    "obj2 = pelajar(\"Rijal Basri\", \"Banggai Kepulauan\")\n",
    "obj2.perkenalan()\n",
    "obj3 = pekerja(\"Papa\", \"Sinjai\", \"Kapal Perikanan\")\n",
    "obj3.perkenalan()\n",
    "print(f\"Saya Bekerja di {obj3.tempat_kerja}\")\n",
    "\n"
   ]
  },
  {
   "cell_type": "code",
   "execution_count": 38,
   "metadata": {},
   "outputs": [
    {
     "name": "stdout",
     "output_type": "stream",
     "text": [
      "Ayah = Kelas Ayah\n",
      "Ibu = Kelas Ibu\n"
     ]
    }
   ],
   "source": [
    "class ibu:\n",
    "    namaIbu = \"\"\n",
    "    def ibu(self):\n",
    "        print(self.namaIbu)\n",
    "        \n",
    "class ayah:\n",
    "    namaAyah = \"\"\n",
    "    def ayah(self):\n",
    "        print(self.namaAyah)\n",
    "        \n",
    "class Anak:\n",
    "    def orang_tua(self):\n",
    "        print(\"Ayah =\", self.namaAyah)\n",
    "        print(\"Ibu =\", self.namaIbu)\n",
    "        \n",
    "obj = Anak()\n",
    "obj.namaAyah = \"Kelas Ayah\"\n",
    "obj.namaIbu = \"Kelas Ibu\"\n",
    "obj.orang_tua()\n",
    "    \n"
   ]
  },
  {
   "cell_type": "code",
   "execution_count": 35,
   "metadata": {},
   "outputs": [
    {
     "name": "stdout",
     "output_type": "stream",
     "text": [
      "Constructor Kelas utama / superclass\n",
      "Halo Nama Saya : Yunda, saya berasal dari Banggai Kepulauan\n",
      "Constructor Kelas utama / superclass\n",
      "Halo Nama Saya : Rijal Basri, saya berasal dari Banggai Kepulauan\n",
      "Saya bersekolah di SDN Inpres Tombos\n",
      "Halo Nama Saya : Papa, saya berasal dari Sinjai\n"
     ]
    }
   ],
   "source": [
    "class orang:\n",
    "    def __init__(self, nama , asal):\n",
    "        self.nama = nama\n",
    "        self.asal = asal\n",
    "        print(\"Constructor Kelas utama / superclass\")\n",
    "        \n",
    "    def perkenalan(self):\n",
    "        print(f\"Halo Nama Saya : {self.nama}, saya berasal dari {self.asal}\")\n",
    "        \n",
    "class pelajar(orang):\n",
    "    def __init__(self, nama , asal, sekolah):\n",
    "        super().__init__(nama, asal)\n",
    "        self.sekolah = sekolah\n",
    "\n",
    "class pekerja(orang):\n",
    "    def __init__(self, nama , asal):\n",
    "        self.nama = nama\n",
    "        self.asal = asal\n",
    "\n",
    "obj1 = orang(\"Yunda\", \"Banggai Kepulauan\")\n",
    "obj1.perkenalan()\n",
    "obj2 = pelajar(\"Rijal Basri\", \"Banggai Kepulauan\", \"SDN Inpres Tombos\")\n",
    "obj2.perkenalan()\n",
    "print(f\"Saya bersekolah di {obj2.sekolah}\")\n",
    "obj3 = pekerja(\"Papa\", \"Sinjai\")\n",
    "obj3.perkenalan()"
   ]
  },
  {
   "cell_type": "code",
   "execution_count": 28,
   "metadata": {},
   "outputs": [
    {
     "name": "stdout",
     "output_type": "stream",
     "text": [
      "Constructor Kelas utama / superclass\n",
      "Halo Nama Saya : Yunda, saya berasal dari Banggai Kepulauan\n",
      "Constructor Kelas utama / superclass\n",
      "Halo Nama Saya : Rijal Basri, saya berasal dari Banggai Kepulauan\n",
      "Constructor Kelas utama / superclass\n",
      "Halo Nama Saya : Papa, saya berasal dari Sinjai\n"
     ]
    }
   ],
   "source": [
    "class pelajar(orang):\n",
    "    pass\n",
    "\n",
    "class pekerja(orang):\n",
    "    pass\n",
    "\n",
    "obj1 = orang(\"Yunda\", \"Banggai Kepulauan\")\n",
    "obj1.perkenalan()\n",
    "obj2 = pelajar(\"Rijal Basri\", \"Banggai Kepulauan\")\n",
    "obj2.perkenalan()\n",
    "obj3 = pekerja(\"Papa\", \"Sinjai\")\n",
    "obj3.perkenalan()"
   ]
  },
  {
   "cell_type": "code",
   "execution_count": 29,
   "metadata": {},
   "outputs": [
    {
     "name": "stdout",
     "output_type": "stream",
     "text": [
      "Tipe Motor =  Honda\n",
      "Merek Motor =  Beat\n",
      "Warna Motor =  Merah\n",
      "Motor Start\n",
      "Motor Stop\n",
      "Motor Berhenti\n",
      "Motor Melaju\n",
      "Merek = Beat , dengan Tipe = Honda berwarna Merah\n"
     ]
    }
   ],
   "source": [
    "class Motor:\n",
    "    tipe = \"Honda\"\n",
    "    merek = \"Beat\"\n",
    "    warna = \"Merah\"\n",
    "    \n",
    "    def gerak(self):\n",
    "        print(\"Motor Start\")\n",
    "        print(\"Motor Stop\")\n",
    "        print(\"Motor Berhenti\")\n",
    "        print(\"Motor Melaju\")\n",
    "        \n",
    "    def tampil(self):\n",
    "        return f\"Merek = {self.merek} , dengan Tipe = {self.tipe} berwarna {self.warna}\"\n",
    "    \n",
    "objMotor = Motor()\n",
    "print(\"Tipe Motor = \",objMotor.tipe)\n",
    "print(\"Merek Motor = \",objMotor.merek)\n",
    "print(\"Warna Motor = \",objMotor.warna)\n",
    "objMotor.gerak()\n",
    "print(objMotor.tampil())"
   ]
  },
  {
   "cell_type": "code",
   "execution_count": 30,
   "metadata": {},
   "outputs": [
    {
     "name": "stdout",
     "output_type": "stream",
     "text": [
      "Volume Kotak =  24\n"
     ]
    }
   ],
   "source": [
    "class Kotak:\n",
    "    panjang = 4\n",
    "    lebar = 3\n",
    "    tinggi = 2\n",
    "    \n",
    "    def hitungVolume(self):\n",
    "        return self.panjang*self.lebar*self.tinggi\n",
    "    \n",
    "objKotak = Kotak()\n",
    "print(\"Volume Kotak = \",objKotak.hitungVolume())  "
   ]
  }
 ],
 "metadata": {
  "kernelspec": {
   "display_name": "Python 3",
   "language": "python",
   "name": "python3"
  },
  "language_info": {
   "codemirror_mode": {
    "name": "ipython",
    "version": 3
   },
   "file_extension": ".py",
   "mimetype": "text/x-python",
   "name": "python",
   "nbconvert_exporter": "python",
   "pygments_lexer": "ipython3",
   "version": "3.11.0"
  }
 },
 "nbformat": 4,
 "nbformat_minor": 2
}
